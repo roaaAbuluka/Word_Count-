{
 "cells": [
  {
   "cell_type": "code",
   "execution_count": 88,
   "metadata": {
    "collapsed": true
   },
   "outputs": [],
   "source": [
    "#03/18/2018\n",
    "#Libraries import\n",
    "import nltk, re\n",
    "import pandas as pd\n",
    "import numpy as np\n",
    "import itertools\n",
    "import matplotlib.pyplot as plt\n",
    "from collections import Counter\n",
    "from nltk import sent_tokenize, word_tokenize\n",
    "from nltk.tokenize import word_tokenize as WordTokenizer\n",
    "from collections import OrderedDict\n",
    "from nltk import FreqDist\n",
    "from string import punctuation\n",
    "from matplotlib import pyplot as plt\n",
    "from sklearn.feature_extraction.text import TfidfVectorizer\n",
    "%matplotlib inline\n"
   ]
  },
  {
   "cell_type": "code",
   "execution_count": 2,
   "metadata": {
    "scrolled": true
   },
   "outputs": [
    {
     "data": {
      "text/html": [
       "<div>\n",
       "<style>\n",
       "    .dataframe thead tr:only-child th {\n",
       "        text-align: right;\n",
       "    }\n",
       "\n",
       "    .dataframe thead th {\n",
       "        text-align: left;\n",
       "    }\n",
       "\n",
       "    .dataframe tbody tr th {\n",
       "        vertical-align: top;\n",
       "    }\n",
       "</style>\n",
       "<table border=\"1\" class=\"dataframe\">\n",
       "  <thead>\n",
       "    <tr style=\"text-align: right;\">\n",
       "      <th></th>\n",
       "      <th>status_id</th>\n",
       "      <th>text</th>\n",
       "      <th>status_author</th>\n",
       "      <th>link_name</th>\n",
       "      <th>status_type</th>\n",
       "      <th>status_link</th>\n",
       "      <th>permalink_url</th>\n",
       "      <th>status_published</th>\n",
       "      <th>num_reactions</th>\n",
       "      <th>num_comments</th>\n",
       "      <th>num_shares</th>\n",
       "      <th>num_likes</th>\n",
       "      <th>num_loves</th>\n",
       "      <th>num_wows</th>\n",
       "      <th>num_hahas</th>\n",
       "      <th>num_sads</th>\n",
       "      <th>num_angrys</th>\n",
       "    </tr>\n",
       "  </thead>\n",
       "  <tbody>\n",
       "    <tr>\n",
       "      <th>0</th>\n",
       "      <td>563451290370106_1571798056202086</td>\n",
       "      <td>داير تسكن فاخر وكمان بالاقساط  وعبر شركه ما سم...</td>\n",
       "      <td>Salwa Badi</td>\n",
       "      <td>NaN</td>\n",
       "      <td>status</td>\n",
       "      <td>NaN</td>\n",
       "      <td>https://www.facebook.com/groups/56345129037010...</td>\n",
       "      <td>2018-03-12 03:31:51</td>\n",
       "      <td>1213</td>\n",
       "      <td>2036</td>\n",
       "      <td>13</td>\n",
       "      <td>1193</td>\n",
       "      <td>11</td>\n",
       "      <td>2</td>\n",
       "      <td>7</td>\n",
       "      <td>0</td>\n",
       "      <td>0</td>\n",
       "    </tr>\n",
       "    <tr>\n",
       "      <th>1</th>\n",
       "      <td>563451290370106_1574914135890478</td>\n",
       "      <td>دهب عيار21 بحريني \\nثلاث دبل وغويشتين وسلسل \\n...</td>\n",
       "      <td>عبد الله احمد الشنقيطي</td>\n",
       "      <td>NaN</td>\n",
       "      <td>status</td>\n",
       "      <td>NaN</td>\n",
       "      <td>https://www.facebook.com/groups/56345129037010...</td>\n",
       "      <td>2018-03-15 04:44:26</td>\n",
       "      <td>43</td>\n",
       "      <td>32</td>\n",
       "      <td>0</td>\n",
       "      <td>43</td>\n",
       "      <td>0</td>\n",
       "      <td>0</td>\n",
       "      <td>0</td>\n",
       "      <td>0</td>\n",
       "      <td>0</td>\n",
       "    </tr>\n",
       "    <tr>\n",
       "      <th>2</th>\n",
       "      <td>563451290370106_1574324582616100</td>\n",
       "      <td>السلام عليكم ورحمة الله تعالى وبركاته \\nبسئل م...</td>\n",
       "      <td>ابو مهند عمر</td>\n",
       "      <td>NaN</td>\n",
       "      <td>status</td>\n",
       "      <td>NaN</td>\n",
       "      <td>https://www.facebook.com/groups/56345129037010...</td>\n",
       "      <td>2018-03-14 12:54:01</td>\n",
       "      <td>5</td>\n",
       "      <td>4</td>\n",
       "      <td>0</td>\n",
       "      <td>5</td>\n",
       "      <td>0</td>\n",
       "      <td>0</td>\n",
       "      <td>0</td>\n",
       "      <td>0</td>\n",
       "      <td>0</td>\n",
       "    </tr>\n",
       "    <tr>\n",
       "      <th>3</th>\n",
       "      <td>563451290370106_1574982992550259</td>\n",
       "      <td>عايزه لى نص بيت ايجار بسعر حنين ياخ\\nمن بحرى ل...</td>\n",
       "      <td>إشراقة ادم محمد مخاوي</td>\n",
       "      <td>NaN</td>\n",
       "      <td>status</td>\n",
       "      <td>NaN</td>\n",
       "      <td>https://www.facebook.com/groups/56345129037010...</td>\n",
       "      <td>2018-03-15 06:19:20</td>\n",
       "      <td>9</td>\n",
       "      <td>7</td>\n",
       "      <td>0</td>\n",
       "      <td>9</td>\n",
       "      <td>0</td>\n",
       "      <td>0</td>\n",
       "      <td>0</td>\n",
       "      <td>0</td>\n",
       "      <td>0</td>\n",
       "    </tr>\n",
       "    <tr>\n",
       "      <th>4</th>\n",
       "      <td>563451290370106_1574975472551011</td>\n",
       "      <td>سلام عليكم\\nبستفسر بخصوص الارتدادات فى السودان...</td>\n",
       "      <td>Mohammed Ali</td>\n",
       "      <td>NaN</td>\n",
       "      <td>status</td>\n",
       "      <td>NaN</td>\n",
       "      <td>https://www.facebook.com/groups/56345129037010...</td>\n",
       "      <td>2018-03-15 06:08:54</td>\n",
       "      <td>4</td>\n",
       "      <td>4</td>\n",
       "      <td>0</td>\n",
       "      <td>4</td>\n",
       "      <td>0</td>\n",
       "      <td>0</td>\n",
       "      <td>0</td>\n",
       "      <td>0</td>\n",
       "      <td>0</td>\n",
       "    </tr>\n",
       "  </tbody>\n",
       "</table>\n",
       "</div>"
      ],
      "text/plain": [
       "                          status_id  \\\n",
       "0  563451290370106_1571798056202086   \n",
       "1  563451290370106_1574914135890478   \n",
       "2  563451290370106_1574324582616100   \n",
       "3  563451290370106_1574982992550259   \n",
       "4  563451290370106_1574975472551011   \n",
       "\n",
       "                                                text           status_author  \\\n",
       "0  داير تسكن فاخر وكمان بالاقساط  وعبر شركه ما سم...              Salwa Badi   \n",
       "1  دهب عيار21 بحريني \\nثلاث دبل وغويشتين وسلسل \\n...  عبد الله احمد الشنقيطي   \n",
       "2  السلام عليكم ورحمة الله تعالى وبركاته \\nبسئل م...            ابو مهند عمر   \n",
       "3  عايزه لى نص بيت ايجار بسعر حنين ياخ\\nمن بحرى ل...   إشراقة ادم محمد مخاوي   \n",
       "4  سلام عليكم\\nبستفسر بخصوص الارتدادات فى السودان...            Mohammed Ali   \n",
       "\n",
       "  link_name status_type status_link  \\\n",
       "0       NaN      status         NaN   \n",
       "1       NaN      status         NaN   \n",
       "2       NaN      status         NaN   \n",
       "3       NaN      status         NaN   \n",
       "4       NaN      status         NaN   \n",
       "\n",
       "                                       permalink_url     status_published  \\\n",
       "0  https://www.facebook.com/groups/56345129037010...  2018-03-12 03:31:51   \n",
       "1  https://www.facebook.com/groups/56345129037010...  2018-03-15 04:44:26   \n",
       "2  https://www.facebook.com/groups/56345129037010...  2018-03-14 12:54:01   \n",
       "3  https://www.facebook.com/groups/56345129037010...  2018-03-15 06:19:20   \n",
       "4  https://www.facebook.com/groups/56345129037010...  2018-03-15 06:08:54   \n",
       "\n",
       "   num_reactions  num_comments  num_shares  num_likes  num_loves  num_wows  \\\n",
       "0           1213          2036          13       1193         11         2   \n",
       "1             43            32           0         43          0         0   \n",
       "2              5             4           0          5          0         0   \n",
       "3              9             7           0          9          0         0   \n",
       "4              4             4           0          4          0         0   \n",
       "\n",
       "   num_hahas  num_sads  num_angrys  \n",
       "0          7         0           0  \n",
       "1          0         0           0  \n",
       "2          0         0           0  \n",
       "3          0         0           0  \n",
       "4          0         0           0  "
      ]
     },
     "execution_count": 2,
     "metadata": {},
     "output_type": "execute_result"
    }
   ],
   "source": [
    "#upload the data and rename the columns + drop missing values\n",
    "data = pd.read_csv(\"C:\\\\Users\\\\Roaa Abuluka\\\\Desktop\\\\facebook9300.csv\")\n",
    "data = data.rename(columns = {'status_message': 'text'})\n",
    "data.dropna( how = 'all' )\n",
    "data = data[~data['text'].isnull()]\n",
    "data.head()"
   ]
  },
  {
   "cell_type": "code",
   "execution_count": 3,
   "metadata": {
    "collapsed": true
   },
   "outputs": [],
   "source": [
    "#function to remove the stop-words from the dataset\n",
    "def stopwordRemove(text):\n",
    "    ar_stopword_list = open(\"C:\\\\Users\\\\Roaa Abuluka\\\\Documents\\\\stopwords.txt\", \"r\")\n",
    "    stop_words = ar_stopword_list.read().split('\\n')\n",
    "    needed_words = []\n",
    "    words = word_tokenize(text)\n",
    "    for w in words:\n",
    "        if w not in (stop_words):\n",
    "            needed_words.append(w)\n",
    "    filtered_sentence = \" \".join(needed_words)\n",
    "    return filtered_sentence"
   ]
  },
  {
   "cell_type": "code",
   "execution_count": 4,
   "metadata": {
    "collapsed": true
   },
   "outputs": [],
   "source": [
    "# Function for tokanize the sentence and remove punctuation  \n",
    "def tokenizer(text):\n",
    "        tokens_ = [word_tokenize(sent) for sent in sent_tokenize(text)]     \n",
    "        tokens = []\n",
    "        for token_by_sent in tokens_:\n",
    "            tokens += token_by_sent\n",
    "            \n",
    "        tokens = list(filter(lambda t:t not in punctuation, tokens))\n",
    "        filtered_tokens = []\n",
    "        for token in tokens:\n",
    "                filtered_tokens.append(token)\n",
    "        return filtered_tokens"
   ]
  },
  {
   "cell_type": "code",
   "execution_count": 5,
   "metadata": {
    "collapsed": true
   },
   "outputs": [],
   "source": [
    "data['tokens'] = data['text'].fillna(\"\").map(tokenizer)"
   ]
  },
  {
   "cell_type": "code",
   "execution_count": 6,
   "metadata": {
    "collapsed": true
   },
   "outputs": [],
   "source": [
    "#count the most common words \n",
    "def get_keywords(tokens,num):\n",
    "    return Counter(tokens).most_common(num)"
   ]
  },
  {
   "cell_type": "code",
   "execution_count": 7,
   "metadata": {
    "scrolled": false
   },
   "outputs": [
    {
     "name": "stdout",
     "output_type": "stream",
     "text": [
      "tokens: (['داير', 'تسكن', 'فاخر', 'وكمان', 'بالاقساط', 'وعبر', 'شركه', 'ما', 'سمسا', 'ر', 'وما', 'بناخد', 'منك', 'عموله', 'قول', 'انا', 'مهتم'],)\n",
      "\n",
      "tokens: (['دهب', 'عيار21', 'بحريني', 'ثلاث', 'دبل', 'وغويشتين', 'وسلسل', 'السعر', '1300', 'جنيه', 'السعر', 'نهائي', 'ملحوظه', 'سعر', 'السوق', '1500', 'جنيه', 'للتواصل0924634655'],)\n",
      "\n",
      "tokens: (['السلام', 'عليكم', 'ورحمة', 'الله', 'تعالى', 'وبركاته', 'بسئل', 'من', 'إسكان', 'الفتح', 'أم', 'درمان', 'الأسعار', 'في', 'حدود', 'كم', 'وأنا', 'جادي'],)\n",
      "\n",
      "tokens: (['عايزه', 'لى', 'نص', 'بيت', 'ايجار', 'بسعر', 'حنين', 'ياخ', 'من', 'بحرى', 'لحدى', 'الحلفايه'],)\n",
      "\n",
      "tokens: (['سلام', 'عليكم', 'بستفسر', 'بخصوص', 'الارتدادات', 'فى', 'السودان', 'بالنسبه', 'للجار', 'من', 'الجهه', 'الجنوبيه', 'والغربيه', 'لقطعه', 'ناصيه'],)\n",
      "\n"
     ]
    }
   ],
   "source": [
    "#show the tokens column \n",
    "for tokens in zip( data['tokens'].head(5)):\n",
    "    print('tokens:', tokens)\n",
    "    print() "
   ]
  },
  {
   "cell_type": "code",
   "execution_count": 8,
   "metadata": {
    "collapsed": true
   },
   "outputs": [],
   "source": [
    "#create data frame of keywords\n",
    "keywords_array=[]\n",
    "for index, row in data.iterrows():\n",
    "    keywords=row['tokens']\n",
    "    for kw in keywords:\n",
    "        keywords_array.append((kw.strip(' '), row['tokens']))\n",
    "kw_df = pd.DataFrame(keywords_array).rename(columns={0:'keyword', 1:'keywords'})\n"
   ]
  },
  {
   "cell_type": "code",
   "execution_count": null,
   "metadata": {},
   "outputs": [],
   "source": [
    "#build a co-occurance matrix \n",
    "document = kw_df.keywords.tolist()\n",
    "names = kw_df.keyword.tolist()\n",
    " \n",
    "document_array = []\n",
    "for item in document:\n",
    "    \n",
    "    document_array.append((item))\n",
    "    \n",
    "occurrences = OrderedDict((name, OrderedDict((name, 0) for name in names)) for name in names)\n",
    " \n",
    "#Find the co-occurrences:\n",
    "for l in document_array:\n",
    "    for i in range(len(l)):\n",
    "        for item in l[:i] + l[i + 1:]:\n",
    "            occurrences[l[i]][item] += 1\n",
    "\n",
    "co_occur = pd.DataFrame.from_dict(occurrences )"
   ]
  },
  {
   "cell_type": "code",
   "execution_count": null,
   "metadata": {
    "collapsed": true
   },
   "outputs": [],
   "source": [
    "#co_occur file for futrther analysis \n",
    "co_occur.to_csv('out/ericbrown_co-occurancy_matrix.csv')"
   ]
  },
  {
   "cell_type": "code",
   "execution_count": 9,
   "metadata": {
    "collapsed": true
   },
   "outputs": [],
   "source": [
    "#function to count tokens in the text\n",
    "def keywords(text):\n",
    "    tokens = [word_tokenize(text)]\n",
    "    alltokens = []      \n",
    "    for token_list in tokens:\n",
    "        alltokens += token_list\n",
    "    counter = Counter(alltokens)\n",
    "    return counter"
   ]
  },
  {
   "cell_type": "code",
   "execution_count": 10,
   "metadata": {
    "collapsed": true
   },
   "outputs": [],
   "source": [
    "dat= data['text'].fillna(\"\").map(keywords)\n"
   ]
  },
  {
   "cell_type": "code",
   "execution_count": 12,
   "metadata": {
    "collapsed": true
   },
   "outputs": [],
   "source": [
    "#tfidf vectorization \n",
    "vectorizer = TfidfVectorizer(min_df=10, max_features=10000, tokenizer=tokenizer, ngram_range=(1, 2))\n",
    "vz = vectorizer.fit_transform(list(data['text']))"
   ]
  },
  {
   "cell_type": "code",
   "execution_count": 13,
   "metadata": {
    "collapsed": true
   },
   "outputs": [],
   "source": [
    "tfidf = dict(zip(vectorizer.get_feature_names(), vectorizer.idf_))\n",
    "tfidf = pd.DataFrame(columns=['tfidf']).from_dict(dict(tfidf), orient='index')\n",
    "tfidf.columns = ['tfidf']"
   ]
  },
  {
   "cell_type": "code",
   "execution_count": 14,
   "metadata": {},
   "outputs": [
    {
     "data": {
      "text/plain": [
       "<matplotlib.axes._subplots.AxesSubplot at 0x1e6db249a90>"
      ]
     },
     "execution_count": 14,
     "metadata": {},
     "output_type": "execute_result"
    },
    {
     "data": {
      "image/png": "[encoded data removed]",
      "text/plain": [
       "<matplotlib.figure.Figure at 0x1e6d5956080>"
      ]
     },
     "metadata": {},
     "output_type": "display_data"
    }
   ],
   "source": [
    "#distribution of the tfidf scores\n",
    "tfidf.tfidf.hist(bins=50)\n"
   ]
  },
  {
   "cell_type": "code",
   "execution_count": 15,
   "metadata": {},
   "outputs": [
    {
     "data": {
      "text/html": [
       "<div>\n",
       "<style>\n",
       "    .dataframe thead tr:only-child th {\n",
       "        text-align: right;\n",
       "    }\n",
       "\n",
       "    .dataframe thead th {\n",
       "        text-align: left;\n",
       "    }\n",
       "\n",
       "    .dataframe tbody tr th {\n",
       "        vertical-align: top;\n",
       "    }\n",
       "</style>\n",
       "<table border=\"1\" class=\"dataframe\">\n",
       "  <thead>\n",
       "    <tr style=\"text-align: right;\">\n",
       "      <th></th>\n",
       "      <th>tfidf</th>\n",
       "    </tr>\n",
       "  </thead>\n",
       "  <tbody>\n",
       "    <tr>\n",
       "      <th>في</th>\n",
       "      <td>1.760943</td>\n",
       "    </tr>\n",
       "    <tr>\n",
       "      <th>من</th>\n",
       "      <td>2.180082</td>\n",
       "    </tr>\n",
       "    <tr>\n",
       "      <th>مطلوب</th>\n",
       "      <td>2.412840</td>\n",
       "    </tr>\n",
       "    <tr>\n",
       "      <th>مربع</th>\n",
       "      <td>2.468902</td>\n",
       "    </tr>\n",
       "    <tr>\n",
       "      <th>للبيع</th>\n",
       "      <td>2.613404</td>\n",
       "    </tr>\n",
       "  </tbody>\n",
       "</table>\n",
       "</div>"
      ],
      "text/plain": [
       "          tfidf\n",
       "في     1.760943\n",
       "من     2.180082\n",
       "مطلوب  2.412840\n",
       "مربع   2.468902\n",
       "للبيع  2.613404"
      ]
     },
     "execution_count": 15,
     "metadata": {},
     "output_type": "execute_result"
    }
   ],
   "source": [
    "tfidf.sort_values(by=['tfidf'], ascending=True).head(5)"
   ]
  },
  {
   "cell_type": "code",
   "execution_count": 16,
   "metadata": {},
   "outputs": [
    {
     "data": {
      "text/html": [
       "<div>\n",
       "<style>\n",
       "    .dataframe thead tr:only-child th {\n",
       "        text-align: right;\n",
       "    }\n",
       "\n",
       "    .dataframe thead th {\n",
       "        text-align: left;\n",
       "    }\n",
       "\n",
       "    .dataframe tbody tr th {\n",
       "        vertical-align: top;\n",
       "    }\n",
       "</style>\n",
       "<table border=\"1\" class=\"dataframe\">\n",
       "  <thead>\n",
       "    <tr style=\"text-align: right;\">\n",
       "      <th></th>\n",
       "      <th>tfidf</th>\n",
       "    </tr>\n",
       "  </thead>\n",
       "  <tbody>\n",
       "    <tr>\n",
       "      <th>🚨عرض خااااااص</th>\n",
       "      <td>7.660342</td>\n",
       "    </tr>\n",
       "    <tr>\n",
       "      <th>سيتي</th>\n",
       "      <td>7.660342</td>\n",
       "    </tr>\n",
       "    <tr>\n",
       "      <th>شروط</th>\n",
       "      <td>7.660342</td>\n",
       "    </tr>\n",
       "    <tr>\n",
       "      <th>شركة ،</th>\n",
       "      <td>7.660342</td>\n",
       "    </tr>\n",
       "    <tr>\n",
       "      <th>82</th>\n",
       "      <td>7.660342</td>\n",
       "    </tr>\n",
       "  </tbody>\n",
       "</table>\n",
       "</div>"
      ],
      "text/plain": [
       "                  tfidf\n",
       "🚨عرض خااااااص  7.660342\n",
       "سيتي           7.660342\n",
       "شروط           7.660342\n",
       "شركة ،         7.660342\n",
       "82             7.660342"
      ]
     },
     "execution_count": 16,
     "metadata": {},
     "output_type": "execute_result"
    }
   ],
   "source": [
    "tfidf.sort_values(by=['tfidf'], ascending=False).head(5)"
   ]
  }
 ],
 "metadata": {
  "kernelspec": {
   "display_name": "Python 3",
   "language": "python",
   "name": "python3"
  },
  "language_info": {
   "codemirror_mode": {
    "name": "ipython",
    "version": 3
   },
   "file_extension": ".py",
   "mimetype": "text/x-python",
   "name": "python",
   "nbconvert_exporter": "python",
   "pygments_lexer": "ipython3",
   "version": "3.7.2"
  }
 },
 "nbformat": 4,
 "nbformat_minor": 2
}
